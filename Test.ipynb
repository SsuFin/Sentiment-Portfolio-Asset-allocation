{
 "cells": [
  {
   "cell_type": "markdown",
   "metadata": {},
   "source": [
    "### 임포트 라이브러리"
   ]
  },
  {
   "cell_type": "code",
   "execution_count": null,
   "metadata": {},
   "outputs": [],
   "source": [
    "import numpy as np\n",
    "import pandas as pd\n",
    "from tensorflow import keras\n",
    "from tensorflow.keras import layers\n",
    "from matplotlib import pyplot as plt\n",
    "from datetime import datetime, timedelta\n",
    "from tensorflow.keras.utils import plot_model\n",
    "from keras.models import Sequential\n",
    "from keras.layers import LSTM, Dense"
   ]
  },
  {
   "cell_type": "markdown",
   "metadata": {},
   "source": [
    "### 코드 분석"
   ]
  },
  {
   "cell_type": "markdown",
   "metadata": {},
   "source": [
    "#### 전체 코드"
   ]
  },
  {
   "cell_type": "code",
   "execution_count": null,
   "metadata": {},
   "outputs": [],
   "source": [
    "for t in range(len(p)):\n",
    "    data = np.concatenate([p[t], v[t], s[t]]) # (p_t,v_t;s_t) 꼴의 데이터셋\n",
    "\n",
    "input_data = np.reshape(data, (1, 1, -1))\n",
    "listm_units = 50 # 초기 셀의 개수 설정\n",
    "def initialize_ecm_lstm(input_size, lstm_units):\n",
    "    model = Sequential()\n",
    "    model.add(LSTM(lstm_units, input_shape=(None, input_size)))\n",
    "    model.add(Dense(1))  # 예측할 값이 1차원 (예: 수익률)\n",
    "    model.compile(optimizer='adam', loss='mean_squared_error')\n",
    "    return model\n",
    "    \n",
    "centroids = []\n",
    "centroids.append(data[0])\n",
    "radiuses = []\n",
    "radiuses.append(0)\n",
    "\n",
    "def initial_step(data, centroids, radiuses, model):\n",
    "    predicted_returns = []\n",
    "\n",
    "    for t in range(len(data)):\n",
    "        new_data = np.concatenate([p[t], v[t], s[t]])\n",
    "        closest_idx = None\n",
    "        min_distance = float('inf')\n",
    "        s_min_init = float('inf')\n",
    "\n",
    "        # 가장 가까운 클러스터 찾기\n",
    "        for idx, c in enumerate(centroids):\n",
    "            distance = np.linalg.norm(new_data - c)\n",
    "            if distance < min_distance:\n",
    "                min_distance = distance\n",
    "                closest_idx = idx\n",
    "\n",
    "        # 클러스터 업데이트\n",
    "        if closest_idx is not None and min_distance <= radiuses[closest_idx]:\n",
    "            centroids[closest_idx] = (centroids[closest_idx] + new_data) / 2\n",
    "            radiuses[closest_idx] = max(radiuses[closest_idx], min_distance)\n",
    "        else:\n",
    "                    # 가장 가까운 클러스터 찾기\n",
    "            for idx, (c, r) in enumerate(centroids, radiuses):\n",
    "                s_min = np.linalg.norm(new_data - c) + r\n",
    "                if s_min < s_min_init : \n",
    "                    s_min_init = s_min\n",
    "                    closest_idx = idx\n",
    "\n",
    "            if closest_idx is not None and s_min > 2 * radiuses[closest_idx]:\n",
    "                centroids.append(new_data)\n",
    "                \n",
    "            else :\n",
    "                centroids[closest_idx] = (centroids[closest_idx] + new_data) / 2\n",
    "                radiuses[closest_idx] = max(radiuses[closest_idx], min_distance)\n",
    "        # LSTM 모델을 사용한 예측\n",
    "        predicted_return = model.predict(np.reshape(new_data, (1, 1, -1)))\n",
    "        predicted_returns.append(predicted_return)\n",
    "\n",
    "    return centroids, radiuses, predicted_returns"
   ]
  },
  {
   "cell_type": "markdown",
   "metadata": {},
   "source": [
    "### ${p_t} {v_t} {s_t}$ 데이터셋의 형태(행렬구조)의 예시는 아래와 같습니다. -> **티커 별로 가격(종가)데이터와 거래량 데이터 수집할 필요가 있습니다.**"
   ]
  },
  {
   "cell_type": "code",
   "execution_count": null,
   "metadata": {},
   "outputs": [],
   "source": [
    "# 데이터 준비\n",
    "# 이 부분은 실제 데이터셋에 맞게 조정해야 함\n",
    "p = np.random.rand(100, 3)  # 가격 데이터\n",
    "v = np.random.rand(100, 3)  # 거래량 데이터\n",
    "s = np.random.rand(100, 1)  # 센티먼트 데이터"
   ]
  },
  {
   "cell_type": "markdown",
   "metadata": {},
   "source": [
    "### 데이터 병합 (${p_t}, {v_t}, {s_t}$)"
   ]
  },
  {
   "cell_type": "code",
   "execution_count": null,
   "metadata": {},
   "outputs": [],
   "source": [
    "for t in range(len(p)):\n",
    "    data = np.concatenate([p[t], v[t], s[t]]) # (p_t,v_t;s_t) 꼴의 데이터셋"
   ]
  },
  {
   "cell_type": "markdown",
   "metadata": {},
   "source": [
    "### 입력 데이터 p,v,s를 LSTM에 추가(add)하는 것으로 알고리즘 1의 14 ~ 20(입력층, 출력층, 망각층) 까지 자동으로 구현이 됩니다.\n",
    "### 이 때, 알고리즘의 소문자 $c_t$는 centroid가 아닌 LSTM Cell"
   ]
  },
  {
   "cell_type": "code",
   "execution_count": null,
   "metadata": {},
   "outputs": [],
   "source": [
    "input_data = np.reshape(data, (1, 1, -1))\n",
    "listm_units = 50 # 초기 셀의 개수 설정\n",
    "def initialize_ecm_lstm(input_size, lstm_units):\n",
    "    model = Sequential()\n",
    "    model.add(LSTM(lstm_units, input_shape=(None, input_size)))\n",
    "    model.add(Dense(1))  # 예측할 값이 1차원 (예: 수익률)\n",
    "    model.compile(optimizer='adam', loss='mean_squared_error')\n",
    "    return model"
   ]
  },
  {
   "cell_type": "markdown",
   "metadata": {},
   "source": [
    "### 클러스터링(ECM 부분) 구현. Clustering 패키지를 임포트할 필요가 없이 단순 구현으로 가능한 로직이라고 합니다."
   ]
  },
  {
   "cell_type": "markdown",
   "metadata": {},
   "source": [
    "$t=0$일 때의 초기값 정의했으니 라인 15로 이동"
   ]
  },
  {
   "cell_type": "code",
   "execution_count": null,
   "metadata": {},
   "outputs": [],
   "source": [
    "input_data = np.reshape(data, (1, 1, -1))\n",
    "# LSTM 모델 훈련\n",
    "model.fit(input_data, s[t], epochs=1, verbose=0)"
   ]
  },
  {
   "cell_type": "markdown",
   "metadata": {},
   "source": [
    "$t=1$ 일 때부터, $D_{min}$이 정의됩니다. $D_{min} = (||p_{t,k},v_{t,k},s_t) - C_i||)$ -> || || : $Euclidean Distance$"
   ]
  },
  {
   "cell_type": "code",
   "execution_count": null,
   "metadata": {},
   "outputs": [],
   "source": [
    "for t in range(len(p)):\n",
    "    data = np.concatenate([p[t], v[t], s[t]]) # (p_t,v_t;s_t) 꼴의 데이터셋\n",
    "    \n",
    "centroids = []\n",
    "centroids.append(data[0])\n",
    "radiuses = []\n",
    "radiuses.append(0)\n",
    "\n",
    "def initial_step(data, centroids, radiuses, model):\n",
    "    predicted_returns = []\n",
    "\n",
    "    for t in range(len(data)):\n",
    "        new_data = np.concatenate([p[t], v[t], s[t]])\n",
    "        closest_idx = None\n",
    "        min_distance = float('inf')\n",
    "        s_min_init = float('inf')\n",
    "\n",
    "        # 가장 가까운 클러스터 찾기\n",
    "        for idx, c in enumerate(centroids):\n",
    "            distance = np.linalg.norm(new_data - c)\n",
    "            if distance < min_distance:\n",
    "                min_distance = distance\n",
    "                closest_idx = idx\n",
    "\n",
    "        # 클러스터 업데이트\n",
    "        if closest_idx is not None and min_distance <= radiuses[closest_idx]:\n",
    "            centroids[closest_idx] = (centroids[closest_idx] + new_data) / 2\n",
    "            radiuses[closest_idx] = max(radiuses[closest_idx], min_distance)\n",
    "        else:\n",
    "                    # 가장 가까운 클러스터 찾기\n",
    "            for idx, (c, r) in enumerate(centroids, radiuses):\n",
    "                s_min = np.linalg.norm(new_data - c) + r\n",
    "                if s_min < s_min_init : \n",
    "                    s_min_init = s_min\n",
    "                    closest_idx = idx\n",
    "\n",
    "            if closest_idx is not None and s_min > 2 * radiuses[closest_idx]:\n",
    "                centroids.append(new_data)\n",
    "                \n",
    "            else :\n",
    "                centroids[closest_idx] = (centroids[closest_idx] + new_data) / 2\n",
    "                radiuses[closest_idx] = max(radiuses[closest_idx], min_distance)\n",
    "        # LSTM 모델을 사용한 예측\n",
    "        predicted_return = model.predict(np.reshape(new_data, (1, 1, -1)))\n",
    "        predicted_returns.append(predicted_return)\n",
    "\n",
    "    return centroids, radiuses, predicted_returns\n",
    "\n",
    "        "
   ]
  }
 ],
 "metadata": {
  "language_info": {
   "name": "python"
  },
  "orig_nbformat": 4
 },
 "nbformat": 4,
 "nbformat_minor": 2
}
