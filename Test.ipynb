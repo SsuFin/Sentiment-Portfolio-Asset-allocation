{
 "cells": [
  {
   "cell_type": "markdown",
   "metadata": {},
   "source": [
    "### 라이브러리 임포트"
   ]
  },
  {
   "cell_type": "code",
   "execution_count": null,
   "metadata": {},
   "outputs": [],
   "source": [
    "import numpy as np\n",
    "import pandas as pd\n",
    "from tensorflow import keras\n",
    "from tensorflow.keras import layers\n",
    "from matplotlib import pyplot as plt\n",
    "from datetime import datetime, timedelta\n",
    "from tensorflow.keras.utils import plot_model\n",
    "from keras.models import Sequential\n",
    "from keras.layers import LSTM, Dense"
   ]
  },
  {
   "cell_type": "markdown",
   "metadata": {},
   "source": [
    "### 코드 분석"
   ]
  },
  {
   "cell_type": "markdown",
   "metadata": {},
   "source": [
    "#### 전체 코드"
   ]
  },
  {
   "cell_type": "code",
   "execution_count": null,
   "metadata": {},
   "outputs": [],
   "source": [
    "### 데이터 준비\n",
    "\n",
    "\n",
    "# 이 부분은 실제 데이터셋에 맞게 조정해야 함 추후에 알고리즘 내부에 다시 한번 재정의\n",
    "p = np.random.rand(100, 3)  # 가격 데이터\n",
    "v = np.random.rand(100, 3)  # 거래량 데이터\n",
    "s = np.random.rand(100, 1)  # 센티먼트 데이터\n",
    "\n",
    "for t in range(len(p)):\n",
    "    data = np.concatenate([p[t], v[t], s[t]]) # (p_t,v_t;s_t) 꼴의 데이터셋\n",
    "\n",
    "\n",
    "### LSTM 모델 불러오기\n",
    "\n",
    "input_data = np.reshape(data, (1, 1, -1))\n",
    "input_size = len(p[0]) + len(v[0]) + len(s[0])\n",
    "lstm_units = 50 # 초기 셀의 개수 설정\n",
    "\n",
    "def initialize_ecm_lstm(input_size, lstm_units):\n",
    "    model = Sequential()\n",
    "    model.add(LSTM(lstm_units, input_shape=(None, input_size)))\n",
    "    model.add(Dense(1))  # 예측할 값이 1차원 (예: 수익률)\n",
    "    model.compile(optimizer='adam', loss='mean_squared_error')\n",
    "    return model\n",
    "\n",
    "model = initialize_ecm_lstm(input_size, lstm_units)\n",
    "\n",
    "\n",
    "### 초기값 설정\n",
    "\n",
    "centroids = []\n",
    "centroids.append(data[0])\n",
    "radiuses = []\n",
    "radiuses.append(0)\n",
    "\n",
    "\n",
    "### ECM-LSTM 알고리즘\n",
    "\n",
    "def initial_step(data, centroids, radiuses, model):\n",
    "    predicted_returns = []\n",
    "\n",
    "    for t in range(len(data)):\n",
    "        new_data = np.concatenate([p[t], v[t], s[t]])\n",
    "        closest_idx = None\n",
    "        min_distance = float('inf')\n",
    "        s_min_init = float('inf')\n",
    "\n",
    "        # 가장 가까운 클러스터 찾기\n",
    "        for idx, c in enumerate(centroids):\n",
    "            distance = np.linalg.norm(new_data - c)\n",
    "            if distance < min_distance:\n",
    "                min_distance = distance\n",
    "                closest_idx = idx\n",
    "\n",
    "        # 클러스터 업데이트\n",
    "        if closest_idx is not None and min_distance <= radiuses[closest_idx]:\n",
    "            centroids[closest_idx] = (centroids[closest_idx] + new_data) / 2\n",
    "            radiuses[closest_idx] = max(radiuses[closest_idx], min_distance)\n",
    "        else:\n",
    "            # 가장 가까운 클러스터 찾기\n",
    "            for idx, (c, r) in enumerate(centroids, radiuses):\n",
    "                s_min = np.linalg.norm(new_data - c) + r\n",
    "                if s_min < s_min_init : \n",
    "                    s_min_init = s_min\n",
    "                    closest_idx = idx\n",
    "\n",
    "            if closest_idx is not None and s_min > 2 * radiuses[closest_idx]:\n",
    "                centroids.append(new_data)\n",
    "                \n",
    "            else :\n",
    "                centroids[closest_idx] = (centroids[closest_idx] + new_data) / 2\n",
    "                radiuses[closest_idx] = max(radiuses[closest_idx], min_distance)\n",
    "        # LSTM 모델을 사용한 예측\n",
    "        predicted_return = model.predict(np.reshape(new_data, (1, 1, -1)))\n",
    "        predicted_returns.append(predicted_return)\n",
    "\n",
    "    return centroids, radiuses, predicted_returns"
   ]
  },
  {
   "cell_type": "markdown",
   "metadata": {},
   "source": [
    "### ${p_t} {v_t} {s_t}$ 데이터셋의 형태(행렬구조)의 예시는 아래와 같습니다. -> **티커 별로 가격(종가)데이터와 거래량 데이터 수집할 필요가 있습니다.**"
   ]
  },
  {
   "cell_type": "code",
   "execution_count": null,
   "metadata": {},
   "outputs": [],
   "source": [
    "# 데이터 준비\n",
    "# 이 부분은 실제 데이터셋에 맞게 조정해야 함\n",
    "p = np.random.rand(100, 3)  # 가격 데이터\n",
    "v = np.random.rand(100, 3)  # 거래량 데이터\n",
    "s = np.random.rand(100, 1)  # 센티먼트 데이터"
   ]
  },
  {
   "cell_type": "markdown",
   "metadata": {},
   "source": [
    "### 데이터 병합 (${p_t}, {v_t}, {s_t}$)"
   ]
  },
  {
   "cell_type": "code",
   "execution_count": null,
   "metadata": {},
   "outputs": [],
   "source": [
    "for t in range(len(p)):\n",
    "    data = np.concatenate([p[t], v[t], s[t]]) # (p_t,v_t;s_t) 꼴의 데이터셋"
   ]
  },
  {
   "cell_type": "markdown",
   "metadata": {},
   "source": [
    "### LSTM 모델 생성"
   ]
  },
  {
   "cell_type": "code",
   "execution_count": null,
   "metadata": {},
   "outputs": [],
   "source": [
    "input_data = np.reshape(data, (1, 1, -1))\n",
    "input_size = len(p[0]) + len(v[0]) + len(s[0])\n",
    "listm_units = 50 # 초기 셀의 개수 설정\n",
    "\n",
    "def initialize_ecm_lstm(input_size, lstm_units):\n",
    "    model = Sequential()\n",
    "    model.add(LSTM(lstm_units, input_shape=(None, input_size)))\n",
    "    model.add(Dense(1))  # 예측할 값이 1차원 (=Q_t : 예상 수익률)\n",
    "    model.compile(optimizer='adam', loss='mean_squared_error')\n",
    "    return model\n",
    "\n",
    "model = initialize_ecm_lstm(input_size, lstm_units)"
   ]
  },
  {
   "cell_type": "markdown",
   "metadata": {},
   "source": [
    "### 입력 데이터 p,v,s를 LSTM에 추가(add)하는 것으로 알고리즘 1의 14 ~ 20(입력층, 출력층, 망각층; 활성함수 : 시그모이드) 까지 자동으로 구현이 됩니다.\n",
    "### 이 때, 알고리즘의 소문자 $c_t$는 centroid가 아닌 LSTM Cell입니다."
   ]
  },
  {
   "cell_type": "code",
   "execution_count": null,
   "metadata": {},
   "outputs": [],
   "source": [
    "input_data = np.reshape(data, (1, 1, -1))\n",
    "listm_units = 50 # 초기 셀의 개수 설정\n",
    "def initialize_ecm_lstm(input_size, lstm_units):\n",
    "    model = Sequential()\n",
    "    model.add(LSTM(lstm_units, input_shape=(None, input_size)))\n",
    "    model.add(Dense(1))  # 예측할 값이 1차원 (예: 수익률)\n",
    "    model.compile(optimizer='adam', loss='mean_squared_error')\n",
    "    return model"
   ]
  },
  {
   "cell_type": "markdown",
   "metadata": {},
   "source": [
    "### 클러스터링(ECM 부분) 구현. Clustering 패키지를 임포트할 필요가 없이 단순 구현으로 가능한 로직이라고 합니다.\n",
    "\n",
    "#### 학습 과정이 없는 이유\n",
    "##### 논문의 \"Algorithm 1 ECM-LSTM training and forecasting procedure\"에서 model.fit() 부분이 명시적으로 언급되어 있지 않다면, 이는 모델이 지도학습 방식으로 사전 훈련을 거치지 않는다는 것을 의미할 수 있습니다. 이 경우, ECM-LSTM 접근 방식이 일종의 zero-shot learning이나 더 정확히는 온라인 학습(online learning) 방식으로 작동하는 것으로 해석될 수 있습니다.\n",
    "\n",
    "##### **Zero-shot Learning**은 모델이 학습 과정에서 본 적 없는 새로운 데이터나 클래스에 대해 예측을 수행하는 능력을 의미합니다. 이 경우, 모델은 일반적으로 사전 훈련된 지식(예: 언어 모델, 전이 학습 등)을 바탕으로 새로운 데이터에 대해 예측합니다.\n",
    "\n",
    "##### **온라인 학습(Online Learning)** 은 데이터가 순차적으로 모델에 제공되고, 모델이 새로운 데이터 포인트마다 즉시 학습을 수행하는 방식입니다. 이 경우, model.fit()은 각각의 새로운 데이터 포인트에 대해 개별적으로 호출되며, 모델은 계속해서 업데이트되고 발전합니다."
   ]
  },
  {
   "cell_type": "markdown",
   "metadata": {},
   "source": [
    "#### **ECM-LSTM 알고리즘 구현 :initial_step 함수**"
   ]
  },
  {
   "cell_type": "code",
   "execution_count": null,
   "metadata": {},
   "outputs": [],
   "source": [
    "\n",
    "def initial_step(data, centroids, radiuses, model):\n",
    "    predicted_returns = []\n",
    "\n",
    "    for t in range(len(data)):\n",
    "        new_data = np.concatenate([p[t], v[t], s[t]])\n",
    "        closest_idx = None\n",
    "        min_distance = float('inf')\n",
    "        s_min_init = float('inf')\n",
    "\n",
    "        # 가장 가까운 클러스터 찾기\n",
    "        for idx, c in enumerate(centroids):\n",
    "            distance = np.linalg.norm(new_data - c)\n",
    "            if distance < min_distance:\n",
    "                min_distance = distance\n",
    "                closest_idx = idx\n",
    "\n",
    "        # 클러스터 업데이트\n",
    "        if closest_idx is not None and min_distance <= radiuses[closest_idx]:\n",
    "            centroids[closest_idx] = (centroids[closest_idx] + new_data) / 2\n",
    "            radiuses[closest_idx] = max(radiuses[closest_idx], min_distance)\n",
    "        else:\n",
    "            # 가장 가까운 클러스터 찾기\n",
    "            for idx, (c, r) in enumerate(centroids, radiuses):\n",
    "                s_min = np.linalg.norm(new_data - c) + r\n",
    "                if s_min < s_min_init : \n",
    "                    s_min_init = s_min\n",
    "                    closest_idx = idx\n",
    "\n",
    "            if closest_idx is not None and s_min > 2 * radiuses[closest_idx]:\n",
    "                centroids.append(new_data)\n",
    "                \n",
    "            else :\n",
    "                centroids[closest_idx] = (centroids[closest_idx] + new_data) / 2\n",
    "                radiuses[closest_idx] = max(radiuses[closest_idx], min_distance)\n",
    "        # LSTM 모델을 사용한 예측\n",
    "        predicted_return = model.predict(np.reshape(new_data, (1, 1, -1)))\n",
    "        predicted_returns.append(predicted_return)\n",
    "\n",
    "    return centroids, radiuses, predicted_returns"
   ]
  },
  {
   "cell_type": "markdown",
   "metadata": {},
   "source": [
    "- - -- - -- - -- - -- - -- - -- - -- - -- - -- - -- - -- - -- - -- - -- - -- - -- - -- - -- - -- - -- - -- - -- - -- - -- - -- - -- - -- - -- - -"
   ]
  },
  {
   "cell_type": "code",
   "execution_count": null,
   "metadata": {},
   "outputs": [],
   "source": [
    "    predicted_returns = []\n",
    "\n",
    "    for t in range(len(data)):\n",
    "        new_data = np.concatenate([p[t], v[t], s[t]])\n",
    "        closest_idx = None\n",
    "        min_distance = float('inf')\n",
    "        s_min_init = float('inf')"
   ]
  },
  {
   "cell_type": "markdown",
   "metadata": {},
   "source": [
    "#### 모델의 최종 예측 목표인 $Q_t$를 위한 'predicted_returns' 정의\n",
    "#### 'new_data' = 데이터 병합 (${p_t}, {v_t}, {s_t}$)\n",
    "#### 'closest_idx' = ECM의 클러스터 중심(Centroid)를 특정 및 갱신 하기 위한 인덱스(클러스터와 가장 가까운)\n",
    "#### 'min_distance', 's_min_init' $D_{min}$ 과 $(S_{min},i)$를 구하기 위한 도구"
   ]
  },
  {
   "cell_type": "markdown",
   "metadata": {},
   "source": [
    "- - -- - -- - -- - -- - -"
   ]
  },
  {
   "cell_type": "code",
   "execution_count": null,
   "metadata": {},
   "outputs": [],
   "source": [
    "        for idx, c in enumerate(centroids):\n",
    "            distance = np.linalg.norm(new_data - c)\n",
    "            if distance < min_distance:\n",
    "                min_distance = distance\n",
    "                closest_idx = idx"
   ]
  },
  {
   "cell_type": "markdown",
   "metadata": {},
   "source": [
    "#### $D_{min}$ = $min(||(p_{t,k},v_{t,k},s_t) - C_i||)$ 을 구하는 과정 : 알고리즘 중에 식별됐던 모든 Centroid = $C_t$를 돌면서 최소거리 $D_{min}$구하기\n",
    "#### || x - y || = x,y 사이의 유클리디언 거리 = np.linalg.norm"
   ]
  },
  {
   "cell_type": "markdown",
   "metadata": {},
   "source": [
    "- - -"
   ]
  },
  {
   "cell_type": "code",
   "execution_count": null,
   "metadata": {},
   "outputs": [],
   "source": [
    "        if closest_idx is not None and min_distance <= radiuses[closest_idx]:\n",
    "            centroids[closest_idx] = (centroids[closest_idx] + new_data) / 2\n",
    "            radiuses[closest_idx] = max(radiuses[closest_idx], min_distance)"
   ]
  },
  {
   "cell_type": "markdown",
   "metadata": {},
   "source": [
    "#### if $R_i >= D_{min}$ then\n",
    "#### Add $(p_{t,k},v_{t,k},s_t)$ to $C_i$  where $D_{min}$ holds; 부분 (알고리즘 8 ~ 10 행)"
   ]
  },
  {
   "cell_type": "markdown",
   "metadata": {},
   "source": [
    "- - -"
   ]
  },
  {
   "cell_type": "code",
   "execution_count": null,
   "metadata": {},
   "outputs": [],
   "source": [
    "        else:\n",
    "            # 가장 가까운 클러스터 찾기\n",
    "            for idx, (c, r) in enumerate(centroids, radiuses):\n",
    "                s_min = np.linalg.norm(new_data - c) + r\n",
    "                if s_min < s_min_init : \n",
    "                    s_min_init = s_min\n",
    "                    closest_idx = idx"
   ]
  },
  {
   "cell_type": "markdown",
   "metadata": {},
   "source": [
    "#### $(S_{min},i)$ = $min(||(p_{t,k},v_{t,k},s_t) - C_i|| + R_i)$ 구하는 과정"
   ]
  },
  {
   "cell_type": "markdown",
   "metadata": {},
   "source": [
    "- - -"
   ]
  },
  {
   "cell_type": "code",
   "execution_count": null,
   "metadata": {},
   "outputs": [],
   "source": [
    "            if closest_idx is not None and s_min > 2 * radiuses[closest_idx]:\n",
    "                centroids.append(new_data)"
   ]
  },
  {
   "cell_type": "markdown",
   "metadata": {},
   "source": [
    "#### if $S_{min}$ > $2R_i$ then 부분 (알고리즘 13행) "
   ]
  },
  {
   "cell_type": "markdown",
   "metadata": {},
   "source": [
    "- - -"
   ]
  },
  {
   "cell_type": "code",
   "execution_count": null,
   "metadata": {},
   "outputs": [],
   "source": [
    "            else :\n",
    "                centroids[closest_idx] = (centroids[closest_idx] + new_data) / 2\n",
    "                radiuses[closest_idx] = max(radiuses[closest_idx], min_distance)"
   ]
  },
  {
   "cell_type": "markdown",
   "metadata": {},
   "source": [
    "#### Add $(p_{t,k},v_{t,k},s_t)$ to $C_i$  where $S_{min}$ holds; 부분 (알고리즘 22 ~ 23 행)"
   ]
  },
  {
   "cell_type": "markdown",
   "metadata": {},
   "source": [
    "- - -"
   ]
  },
  {
   "cell_type": "markdown",
   "metadata": {},
   "source": [
    "### 각 if 문과 else 문에서 Centroid와 Radius를 업데이트하고 빠져나오게 되면 LSTM을 통해 $\\hat{Q}_t$를 예측합니다."
   ]
  }
 ],
 "metadata": {
  "language_info": {
   "name": "python"
  },
  "orig_nbformat": 4
 },
 "nbformat": 4,
 "nbformat_minor": 2
}
