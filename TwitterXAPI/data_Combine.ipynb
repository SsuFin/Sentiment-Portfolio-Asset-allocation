{
 "cells": [
  {
   "cell_type": "code",
   "execution_count": 23,
   "metadata": {},
   "outputs": [],
   "source": [
    "import pandas as pd\n",
    "pd.set_option('display.max_rows', 5)  # 모든 행을 출력하도록 설정"
   ]
  },
  {
   "cell_type": "code",
   "execution_count": 24,
   "metadata": {},
   "outputs": [],
   "source": [
    "Bloomberg = pd.read_csv('/home/user/exercise_j/TwitterXAPI/BloombergCrypto_classified.csv')\n",
    "Gavin = pd.read_csv('/home/user/exercise_j/TwitterXAPI/GavinWood_classified.csv')\n",
    "Timbeiko = pd.read_csv('/home/user/exercise_j/TwitterXAPI/timbeiko_eth_classified.csv')\n",
    "Arthur = pd.read_csv('/home/user/exercise_j/TwitterXAPI/ArthurHayes_classified.csv')\n",
    "Jesse = pd.read_csv('/home/user/exercise_j/TwitterXAPI/JesseEckel_classified.csv')"
   ]
  },
  {
   "cell_type": "code",
   "execution_count": 25,
   "metadata": {},
   "outputs": [
    {
     "data": {
      "text/html": [
       "<div>\n",
       "<style scoped>\n",
       "    .dataframe tbody tr th:only-of-type {\n",
       "        vertical-align: middle;\n",
       "    }\n",
       "\n",
       "    .dataframe tbody tr th {\n",
       "        vertical-align: top;\n",
       "    }\n",
       "\n",
       "    .dataframe thead th {\n",
       "        text-align: right;\n",
       "    }\n",
       "</style>\n",
       "<table border=\"1\" class=\"dataframe\">\n",
       "  <thead>\n",
       "    <tr style=\"text-align: right;\">\n",
       "      <th></th>\n",
       "      <th>created_at</th>\n",
       "      <th>text</th>\n",
       "      <th>ticker</th>\n",
       "      <th>sentiment_score</th>\n",
       "    </tr>\n",
       "  </thead>\n",
       "  <tbody>\n",
       "    <tr>\n",
       "      <th>0</th>\n",
       "      <td>2024-01-05T09:23:30.000Z</td>\n",
       "      <td>RT @RChoongWilkins: All of this happened in Ch...</td>\n",
       "      <td>NaN</td>\n",
       "      <td>NaN</td>\n",
       "    </tr>\n",
       "    <tr>\n",
       "      <th>1</th>\n",
       "      <td>2024-01-05T09:00:12.000Z</td>\n",
       "      <td>Nigeria’s central bank releases guidelines for...</td>\n",
       "      <td>NaN</td>\n",
       "      <td>NaN</td>\n",
       "    </tr>\n",
       "    <tr>\n",
       "      <th>...</th>\n",
       "      <td>...</td>\n",
       "      <td>...</td>\n",
       "      <td>...</td>\n",
       "      <td>...</td>\n",
       "    </tr>\n",
       "    <tr>\n",
       "      <th>9884</th>\n",
       "      <td>2021-09-14T12:56:43.000Z</td>\n",
       "      <td>@PancakeSwap 8 Days away does anyone know what...</td>\n",
       "      <td>NaN</td>\n",
       "      <td>NaN</td>\n",
       "    </tr>\n",
       "    <tr>\n",
       "      <th>9885</th>\n",
       "      <td>2021-08-25T14:23:55.000Z</td>\n",
       "      <td>@3I0PIVgqnUMpUEv @PancakeSwap This is a great ...</td>\n",
       "      <td>NaN</td>\n",
       "      <td>NaN</td>\n",
       "    </tr>\n",
       "  </tbody>\n",
       "</table>\n",
       "<p>9886 rows × 4 columns</p>\n",
       "</div>"
      ],
      "text/plain": [
       "                    created_at  \\\n",
       "0     2024-01-05T09:23:30.000Z   \n",
       "1     2024-01-05T09:00:12.000Z   \n",
       "...                        ...   \n",
       "9884  2021-09-14T12:56:43.000Z   \n",
       "9885  2021-08-25T14:23:55.000Z   \n",
       "\n",
       "                                                   text ticker  \\\n",
       "0     RT @RChoongWilkins: All of this happened in Ch...    NaN   \n",
       "1     Nigeria’s central bank releases guidelines for...    NaN   \n",
       "...                                                 ...    ...   \n",
       "9884  @PancakeSwap 8 Days away does anyone know what...    NaN   \n",
       "9885  @3I0PIVgqnUMpUEv @PancakeSwap This is a great ...    NaN   \n",
       "\n",
       "      sentiment_score  \n",
       "0                 NaN  \n",
       "1                 NaN  \n",
       "...               ...  \n",
       "9884              NaN  \n",
       "9885              NaN  \n",
       "\n",
       "[9886 rows x 4 columns]"
      ]
     },
     "execution_count": 25,
     "metadata": {},
     "output_type": "execute_result"
    }
   ],
   "source": [
    "df = pd.concat([Bloomberg,Gavin,Timbeiko,Arthur,Jesse], axis=0)\n",
    "\n",
    "# 인덱스 재설정 (필요한 경우)\n",
    "df.reset_index(drop=True, inplace=True)\n",
    "\n",
    "df"
   ]
  },
  {
   "cell_type": "code",
   "execution_count": 26,
   "metadata": {},
   "outputs": [
    {
     "name": "stdout",
     "output_type": "stream",
     "text": [
      "      created_at                                               text  ticker  \\\n",
      "2     2024-01-05  Turkey's president has appointed crypto asset ...  ticker   \n",
      "3     2024-01-05  MicroStrategy co-founder Michael Saylor is sel...     BTC   \n",
      "...          ...                                                ...     ...   \n",
      "9879  2021-11-22  @jofnosso @romedaofinance It just looks like a...     TRX   \n",
      "9882  2021-10-22  @NiftyPhoebe @Strongblock_io @WithoutTheRope H...    NFTY   \n",
      "\n",
      "      sentiment_score  \n",
      "2                 0.0  \n",
      "3                -0.5  \n",
      "...               ...  \n",
      "9879              0.8  \n",
      "9882              0.0  \n",
      "\n",
      "[7287 rows x 4 columns]\n"
     ]
    },
    {
     "name": "stderr",
     "output_type": "stream",
     "text": [
      "/tmp/ipykernel_3660980/3721858677.py:4: SettingWithCopyWarning: \n",
      "A value is trying to be set on a copy of a slice from a DataFrame.\n",
      "Try using .loc[row_indexer,col_indexer] = value instead\n",
      "\n",
      "See the caveats in the documentation: https://pandas.pydata.org/pandas-docs/stable/user_guide/indexing.html#returning-a-view-versus-a-copy\n",
      "  df['created_at'] = pd.to_datetime(df['created_at']).dt.strftime('%Y-%m-%d')\n",
      "/tmp/ipykernel_3660980/3721858677.py:5: SettingWithCopyWarning: \n",
      "A value is trying to be set on a copy of a slice from a DataFrame.\n",
      "Try using .loc[row_indexer,col_indexer] = value instead\n",
      "\n",
      "See the caveats in the documentation: https://pandas.pydata.org/pandas-docs/stable/user_guide/indexing.html#returning-a-view-versus-a-copy\n",
      "  df['ticker'] = df['ticker'].str.replace('\"', '')\n"
     ]
    }
   ],
   "source": [
    "df = df.dropna(subset=['sentiment_score', 'ticker'])\n",
    "\n",
    "# 'created_at' 열을 날짜 형식으로 변환\n",
    "df['created_at'] = pd.to_datetime(df['created_at']).dt.strftime('%Y-%m-%d')\n",
    "df['ticker'] = df['ticker'].str.replace('\"', '')\n",
    "\n",
    "# 결과 출력\n",
    "print(df)"
   ]
  },
  {
   "cell_type": "code",
   "execution_count": 27,
   "metadata": {},
   "outputs": [
    {
     "name": "stdout",
     "output_type": "stream",
     "text": [
      "ticker\n",
      "ETH       2449\n",
      "ticker    1523\n",
      "          ... \n",
      "OKX          1\n",
      "GEM          1\n",
      "Name: count, Length: 265, dtype: int64\n"
     ]
    },
    {
     "name": "stderr",
     "output_type": "stream",
     "text": [
      "/tmp/ipykernel_3660980/929197235.py:1: SettingWithCopyWarning: \n",
      "A value is trying to be set on a copy of a slice from a DataFrame.\n",
      "Try using .loc[row_indexer,col_indexer] = value instead\n",
      "\n",
      "See the caveats in the documentation: https://pandas.pydata.org/pandas-docs/stable/user_guide/indexing.html#returning-a-view-versus-a-copy\n",
      "  df['ticker'] = df['ticker'].str.replace('FTX', 'FTT')\n"
     ]
    }
   ],
   "source": [
    "df['ticker'] = df['ticker'].str.replace('FTX', 'FTT')\n",
    "# pd.set_option('display.max_rows', None)  # 모든 행을 출력하도록 설정\n",
    "ticker_counts = df['ticker'].value_counts()\n",
    "print(ticker_counts)"
   ]
  },
  {
   "cell_type": "markdown",
   "metadata": {},
   "source": [
    "#### 10개 이상의 트윗이 있는 티커 구분"
   ]
  },
  {
   "cell_type": "code",
   "execution_count": 28,
   "metadata": {},
   "outputs": [
    {
     "name": "stdout",
     "output_type": "stream",
     "text": [
      "ticker\n",
      "ETH       2449\n",
      "ticker    1523\n",
      "          ... \n",
      "GBTC        10\n",
      "KSM         10\n",
      "Name: count, Length: 25, dtype: int64\n"
     ]
    }
   ],
   "source": [
    "tickers_to_keep = ticker_counts[ticker_counts > 9].index\n",
    "\n",
    "# 해당하는 'ticker' 값만을 가진 행들을 유지\n",
    "df_filtered = df[df['ticker'].isin(tickers_to_keep)]\n",
    "\n",
    "# 결과 출력\n",
    "ticker_counts2 = df_filtered['ticker'].value_counts()\n",
    "print(ticker_counts2)"
   ]
  },
  {
   "cell_type": "code",
   "execution_count": 29,
   "metadata": {},
   "outputs": [
    {
     "name": "stdout",
     "output_type": "stream",
     "text": [
      "ticker\n",
      "ETH     2449\n",
      "BTC     1097\n",
      "        ... \n",
      "LINK      13\n",
      "TON       10\n",
      "Name: count, Length: 13, dtype: int64\n"
     ]
    }
   ],
   "source": [
    "df_filtered = df_filtered[~df_filtered['ticker'].isin(['','ticker','LUNA','COIN','NFT','N/A','GMX','USDC','SBF','USDT','GBTC','KSM'])]\n",
    "# df_filtered = df_filtered.reset_index(drop=True, inplace=True)\n",
    "ticker_counts2 = df_filtered['ticker'].value_counts()\n",
    "print(ticker_counts2)"
   ]
  },
  {
   "cell_type": "code",
   "execution_count": 30,
   "metadata": {},
   "outputs": [
    {
     "data": {
      "text/html": [
       "<div>\n",
       "<style scoped>\n",
       "    .dataframe tbody tr th:only-of-type {\n",
       "        vertical-align: middle;\n",
       "    }\n",
       "\n",
       "    .dataframe tbody tr th {\n",
       "        vertical-align: top;\n",
       "    }\n",
       "\n",
       "    .dataframe thead th {\n",
       "        text-align: right;\n",
       "    }\n",
       "</style>\n",
       "<table border=\"1\" class=\"dataframe\">\n",
       "  <thead>\n",
       "    <tr style=\"text-align: right;\">\n",
       "      <th></th>\n",
       "      <th>created_at</th>\n",
       "      <th>text</th>\n",
       "      <th>ticker</th>\n",
       "      <th>sentiment_score</th>\n",
       "    </tr>\n",
       "  </thead>\n",
       "  <tbody>\n",
       "    <tr>\n",
       "      <th>3</th>\n",
       "      <td>2024-01-05</td>\n",
       "      <td>MicroStrategy co-founder Michael Saylor is sel...</td>\n",
       "      <td>BTC</td>\n",
       "      <td>-0.50</td>\n",
       "    </tr>\n",
       "    <tr>\n",
       "      <th>5</th>\n",
       "      <td>2024-01-05</td>\n",
       "      <td>Grayscale CEO Michael Sonnenshein said the US ...</td>\n",
       "      <td>BTC</td>\n",
       "      <td>0.00</td>\n",
       "    </tr>\n",
       "    <tr>\n",
       "      <th>...</th>\n",
       "      <td>...</td>\n",
       "      <td>...</td>\n",
       "      <td>...</td>\n",
       "      <td>...</td>\n",
       "    </tr>\n",
       "    <tr>\n",
       "      <th>9831</th>\n",
       "      <td>2022-04-29</td>\n",
       "      <td>Will Ethereum 2.0 upgrade kick off the next bu...</td>\n",
       "      <td>ETH</td>\n",
       "      <td>0.75</td>\n",
       "    </tr>\n",
       "    <tr>\n",
       "      <th>9879</th>\n",
       "      <td>2021-11-22</td>\n",
       "      <td>@jofnosso @romedaofinance It just looks like a...</td>\n",
       "      <td>TRX</td>\n",
       "      <td>0.80</td>\n",
       "    </tr>\n",
       "  </tbody>\n",
       "</table>\n",
       "<p>5142 rows × 4 columns</p>\n",
       "</div>"
      ],
      "text/plain": [
       "      created_at                                               text ticker  \\\n",
       "3     2024-01-05  MicroStrategy co-founder Michael Saylor is sel...    BTC   \n",
       "5     2024-01-05  Grayscale CEO Michael Sonnenshein said the US ...    BTC   \n",
       "...          ...                                                ...    ...   \n",
       "9831  2022-04-29  Will Ethereum 2.0 upgrade kick off the next bu...    ETH   \n",
       "9879  2021-11-22  @jofnosso @romedaofinance It just looks like a...    TRX   \n",
       "\n",
       "      sentiment_score  \n",
       "3               -0.50  \n",
       "5                0.00  \n",
       "...               ...  \n",
       "9831             0.75  \n",
       "9879             0.80  \n",
       "\n",
       "[5142 rows x 4 columns]"
      ]
     },
     "execution_count": 30,
     "metadata": {},
     "output_type": "execute_result"
    }
   ],
   "source": [
    "df_filtered "
   ]
  },
  {
   "cell_type": "code",
   "execution_count": 31,
   "metadata": {},
   "outputs": [
    {
     "name": "stdout",
     "output_type": "stream",
     "text": [
      "      created_at                                               text ticker  \\\n",
      "0     2024-01-05  MicroStrategy co-founder Michael Saylor is sel...    BTC   \n",
      "1     2024-01-05  Grayscale CEO Michael Sonnenshein said the US ...    BTC   \n",
      "...          ...                                                ...    ...   \n",
      "5140  2022-04-29  Will Ethereum 2.0 upgrade kick off the next bu...    ETH   \n",
      "5141  2021-11-22  @jofnosso @romedaofinance It just looks like a...    TRX   \n",
      "\n",
      "      sentiment_score  \n",
      "0               -0.50  \n",
      "1                0.00  \n",
      "...               ...  \n",
      "5140             0.75  \n",
      "5141             0.80  \n",
      "\n",
      "[5142 rows x 4 columns]\n"
     ]
    }
   ],
   "source": [
    "a = df_filtered.reset_index(drop=True)\n",
    "print(a)"
   ]
  }
 ],
 "metadata": {
  "kernelspec": {
   "display_name": "TFT",
   "language": "python",
   "name": "python3"
  },
  "language_info": {
   "codemirror_mode": {
    "name": "ipython",
    "version": 3
   },
   "file_extension": ".py",
   "mimetype": "text/x-python",
   "name": "python",
   "nbconvert_exporter": "python",
   "pygments_lexer": "ipython3",
   "version": "3.10.13"
  },
  "orig_nbformat": 4
 },
 "nbformat": 4,
 "nbformat_minor": 2
}
