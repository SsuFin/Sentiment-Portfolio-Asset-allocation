{
 "cells": [
  {
   "cell_type": "code",
   "execution_count": 61,
   "metadata": {},
   "outputs": [],
   "source": [
    "import requests\n",
    "import os\n",
    "import json\n",
    "\n",
    "import pandas as pd\n",
    "# To set your environment variables in your terminal run the following line:\n",
    "# export 'BEARER_TOKEN'='<your_bearer_token>'\n",
    "bearer_token = ''\n",
    "\n",
    "\n",
    "def create_url():\n",
    "    # Replace with user ID below\n",
    "    user_id = 928759224599040001\n",
    "    return \"https://api.twitter.com/2/users/{}/tweets\".format(user_id)"
   ]
  },
  {
   "cell_type": "code",
   "execution_count": 19,
   "metadata": {},
   "outputs": [],
   "source": [
    "def bearer_oauth(r):\n",
    "    \"\"\"\n",
    "    Method required by bearer token authentication.\n",
    "    \"\"\"\n",
    "\n",
    "    r.headers[\"Authorization\"] = f\"Bearer {bearer_token}\"\n",
    "    r.headers[\"User-Agent\"] = \"v2UserTweetsPython\"\n",
    "    return r"
   ]
  },
  {
   "cell_type": "code",
   "execution_count": 48,
   "metadata": {},
   "outputs": [],
   "source": [
    "import time\n",
    "import requests\n",
    "\n",
    "def connect_to_endpoint(url, params, max_retries=10, wait_seconds=10, rate_limit_wait=900):\n",
    "    retries = 0\n",
    "    while retries < max_retries:\n",
    "        try:\n",
    "            response = requests.request(\"GET\", url, auth=bearer_oauth, params=params)\n",
    "            if response.status_code == 200:\n",
    "                return response.json()\n",
    "            elif response.status_code == 429:\n",
    "                print(\"Rate limit exceeded. Waiting for 15 minutes...\")\n",
    "                time.sleep(rate_limit_wait)  # 특정 시간(예: 15분) 동안 대기\n",
    "                retries += 1\n",
    "            else:\n",
    "                raise Exception(\"Non-200 status code: {} {}\".format(response.status_code, response.text))\n",
    "        except (requests.ConnectionError, requests.Timeout, requests.RequestException) as e:\n",
    "            retries += 1\n",
    "            print(f\"Connection error occurred: {e}. Retrying {retries}/{max_retries}...\")\n",
    "            time.sleep(wait_seconds)\n",
    "\n",
    "    raise Exception(\"Max retries exceeded\")\n",
    "\n"
   ]
  },
  {
   "cell_type": "code",
   "execution_count": 43,
   "metadata": {},
   "outputs": [],
   "source": [
    "def get_params(next_token=None):\n",
    "    params = {\n",
    "        \"tweet.fields\": \"created_at,text\",\n",
    "        \"max_results\": 100\n",
    "    }\n",
    "    if next_token:\n",
    "        params[\"pagination_token\"] = next_token\n",
    "    return params\n"
   ]
  },
  {
   "cell_type": "code",
   "execution_count": 60,
   "metadata": {},
   "outputs": [],
   "source": [
    "def main():\n",
    "    url = create_url()\n",
    "    next_token = None\n",
    "    total_tweets = []\n",
    "\n",
    "    for _ in range(32):  # 최대 3200개의 트윗을 가져오기 위해 32번 반복\n",
    "        params = get_params(next_token)\n",
    "        json_response = connect_to_endpoint(url, params)\n",
    "        tweets = json_response.get('data', [])\n",
    "        total_tweets.extend(tweets)\n",
    "        next_token = json_response.get('meta', {}).get('next_token', None)\n",
    "        if not next_token:\n",
    "            break\n",
    "\n",
    "    # 결과 처리\n",
    "    if total_tweets:\n",
    "        df = pd.DataFrame(total_tweets)\n",
    "        df = df[['created_at', 'text']]  # 필요한 컬럼만 선택\n",
    "        df.to_csv('tweets_BloombergCrypto.csv', index=False)\n",
    "        print(f\"Total tweets fetched: {len(total_tweets)}\")\n",
    "    else:\n",
    "        print(\"No tweets fetched.\")"
   ]
  },
  {
   "cell_type": "code",
   "execution_count": 62,
   "metadata": {},
   "outputs": [
    {
     "name": "stdout",
     "output_type": "stream",
     "text": [
      "Connection error occurred: HTTPSConnectionPool(host='api.twitter.com', port=443): Max retries exceeded with url: /2/users/928759224599040001/tweets?tweet.fields=created_at%2Ctext&max_results=100 (Caused by NewConnectionError('<urllib3.connection.HTTPSConnection object at 0x7f390e311630>: Failed to establish a new connection: [Errno -3] Temporary failure in name resolution')). Retrying 1/10...\n",
      "Connection error occurred: HTTPSConnectionPool(host='api.twitter.com', port=443): Max retries exceeded with url: /2/users/928759224599040001/tweets?tweet.fields=created_at%2Ctext&max_results=100 (Caused by NewConnectionError('<urllib3.connection.HTTPSConnection object at 0x7f390e310880>: Failed to establish a new connection: [Errno -3] Temporary failure in name resolution')). Retrying 2/10...\n",
      "Connection error occurred: HTTPSConnectionPool(host='api.twitter.com', port=443): Max retries exceeded with url: /2/users/928759224599040001/tweets?tweet.fields=created_at%2Ctext&max_results=100&pagination_token=7140dibdnow9c7btw481s27nz46kmzczfglal8e937ygo (Caused by NewConnectionError('<urllib3.connection.HTTPSConnection object at 0x7f390e313a90>: Failed to establish a new connection: [Errno -3] Temporary failure in name resolution')). Retrying 1/10...\n",
      "Rate limit exceeded. Waiting for 15 minutes...\n",
      "Connection error occurred: HTTPSConnectionPool(host='api.twitter.com', port=443): Max retries exceeded with url: /2/users/928759224599040001/tweets?tweet.fields=created_at%2Ctext&max_results=100&pagination_token=7140dibdnow9c7btw480j0c4dhfaf2l7sr3woqaf5txkm (Caused by NewConnectionError('<urllib3.connection.HTTPSConnection object at 0x7f390e310670>: Failed to establish a new connection: [Errno -3] Temporary failure in name resolution')). Retrying 1/10...\n",
      "Rate limit exceeded. Waiting for 15 minutes...\n",
      "Connection error occurred: HTTPSConnectionPool(host='api.twitter.com', port=443): Max retries exceeded with url: /2/users/928759224599040001/tweets?tweet.fields=created_at%2Ctext&max_results=100&pagination_token=7140dibdnow9c7btw480j0c4dhfaf2l7sr3woqaf5txkm (Caused by NewConnectionError('<urllib3.connection.HTTPSConnection object at 0x7f390ebb64d0>: Failed to establish a new connection: [Errno -3] Temporary failure in name resolution')). Retrying 3/10...\n",
      "Connection error occurred: HTTPSConnectionPool(host='api.twitter.com', port=443): Max retries exceeded with url: /2/users/928759224599040001/tweets?tweet.fields=created_at%2Ctext&max_results=100&pagination_token=7140dibdnow9c7btw480j0c4dhfaf2l7sr3woqaf5txkm (Caused by NewConnectionError('<urllib3.connection.HTTPSConnection object at 0x7f390ebb66b0>: Failed to establish a new connection: [Errno -3] Temporary failure in name resolution')). Retrying 4/10...\n",
      "Rate limit exceeded. Waiting for 15 minutes...\n",
      "Total tweets fetched: 3200\n"
     ]
    }
   ],
   "source": [
    "main()"
   ]
  }
 ],
 "metadata": {
  "kernelspec": {
   "display_name": "TFT",
   "language": "python",
   "name": "python3"
  },
  "language_info": {
   "codemirror_mode": {
    "name": "ipython",
    "version": 3
   },
   "file_extension": ".py",
   "mimetype": "text/x-python",
   "name": "python",
   "nbconvert_exporter": "python",
   "pygments_lexer": "ipython3",
   "version": "3.10.13"
  },
  "orig_nbformat": 4
 },
 "nbformat": 4,
 "nbformat_minor": 2
}
